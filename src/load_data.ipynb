{
 "cells": [
  {
   "cell_type": "markdown",
   "metadata": {},
   "source": [
    "# DSTC-2 Datasets Loading\n",
    "\n",
    "### Look into DSTC-2 and understand its structure"
   ]
  },
  {
   "cell_type": "markdown",
   "metadata": {},
   "source": [
    "## Load Libraries"
   ]
  },
  {
   "cell_type": "code",
   "execution_count": 127,
   "metadata": {
    "collapsed": true
   },
   "outputs": [],
   "source": [
    "import os, json, re\n",
    "from IPython.display import display, HTML\n",
    "import pandas as pd"
   ]
  },
  {
   "cell_type": "markdown",
   "metadata": {},
   "source": [
    "## Parameters"
   ]
  },
  {
   "cell_type": "code",
   "execution_count": 128,
   "metadata": {
    "collapsed": true
   },
   "outputs": [],
   "source": [
    "dataset_name = \"dstc2_dev\"\n",
    "src_folder = \"data/dstc2_traindev\""
   ]
  },
  {
   "cell_type": "code",
   "execution_count": 150,
   "metadata": {},
   "outputs": [],
   "source": [
    "class dataset_walker(object):\n",
    "        \n",
    "    def __init__(self,dataset,labels=False,dataroot=None):\n",
    "        if \"[\" in dataset :\n",
    "            self.datasets = json.loads(dataset)\n",
    "        elif type(dataset) == type([]) :\n",
    "            self.datasets= dataset\n",
    "        else:\n",
    "            self.datasets = [dataset]\n",
    "            self.dataset = dataset\n",
    "        self.dataset_session_lists = [os.path.join(src_folder, 'scripts', 'config', dataset_name + '.flist') for dataset in self.datasets]\n",
    "           \n",
    "        self.labels = labels\n",
    "        if (dataroot == None):\n",
    "            self.dataroot = os.path.join(src_folder,'data')\n",
    "        else:\n",
    "            self.dataroot = os.path.join(os.path.abspath(dataroot))\n",
    "\n",
    "        # load dataset (list of calls)\n",
    "        self.session_list = []\n",
    "        for dataset_session_list in self.dataset_session_lists :\n",
    "            f = open(dataset_session_list)\n",
    "            for line in f:\n",
    "                line = line.strip()\n",
    "                #line = re.sub('/',r'\\\\',line)\n",
    "                #line = re.sub(r'\\\\+$','',line)\n",
    "                if (line in self.session_list):\n",
    "                    raise(RuntimeError,'Call appears twice: %s' % (line))\n",
    "                self.session_list.append(line)\n",
    "            f.close() \n",
    "    \n",
    "    def session_id_to_call(self, session_id):\n",
    "        session_id_list = session_id.split('/')\n",
    "        session_dirname = os.path.join(self.dataroot, *session_id_list)\n",
    "        applog_filename = os.path.join(session_dirname,'log.json')\n",
    "        if (self.labels):\n",
    "            labels_filename = os.path.join(session_dirname,'label.json')\n",
    "            if (not os.path.exists(labels_filename)):\n",
    "                raise(RuntimeError,'Cant score : cant open labels file %s' % (labels_filename))\n",
    "        else:\n",
    "            labels_filename = None\n",
    "        return Call(applog_filename,labels_filename)\n",
    "    \n",
    "    def __getitem__(self, i):\n",
    "        return self.session_id_to_call(self.session_list[i])\n",
    "    \n",
    "    def __iter__(self):\n",
    "        print(\"iter\")\n",
    "        for session_id in self.session_list:\n",
    "            yield self.session_id_to_call(session_id)\n",
    "            \n",
    "    def __len__(self, ):\n",
    "        return len(self.session_list)"
   ]
  },
  {
   "cell_type": "code",
   "execution_count": 151,
   "metadata": {
    "collapsed": true
   },
   "outputs": [],
   "source": [
    "class Call(object):\n",
    "    def __init__(self,applog_filename,labels_filename):\n",
    "        self.applog_filename = applog_filename\n",
    "        self.labels_filename = labels_filename\n",
    "        f = open(applog_filename)\n",
    "        self.log = json.load(f)\n",
    "        f.close()\n",
    "        if (labels_filename != None):\n",
    "            f = open(labels_filename)\n",
    "            self.labels = json.load(f)\n",
    "            f.close()\n",
    "        else:\n",
    "            self.labels = None\n",
    "\n",
    "    def __iter__(self):\n",
    "        if (self.labels_filename != None):\n",
    "            for (log,labels) in zip(self.log['turns'],self.labels['turns']):\n",
    "                yield (log,labels)\n",
    "        else: \n",
    "            for log in self.log['turns']:\n",
    "                yield (log,None)\n",
    "                \n",
    "    def __len__(self, ):\n",
    "        return len(self.log['turns'])"
   ]
  },
  {
   "cell_type": "code",
   "execution_count": 186,
   "metadata": {},
   "outputs": [
    {
     "name": "stdout",
     "output_type": "stream",
     "text": [
      "Total Datasets: 506\n"
     ]
    },
    {
     "data": {
      "text/html": [
       "<h1>Session</h1>"
      ],
      "text/plain": [
       "<IPython.core.display.HTML object>"
      ]
     },
     "metadata": {},
     "output_type": "display_data"
    },
    {
     "data": {
      "text/html": [
       "<div>\n",
       "<table border=\"1\" class=\"dataframe\">\n",
       "  <thead>\n",
       "    <tr style=\"text-align: right;\">\n",
       "      <th></th>\n",
       "      <th>0</th>\n",
       "    </tr>\n",
       "  </thead>\n",
       "  <tbody>\n",
       "    <tr>\n",
       "      <th>session-id</th>\n",
       "      <td>voip-be5694f464-20130328_125233</td>\n",
       "    </tr>\n",
       "    <tr>\n",
       "      <th>session-date</th>\n",
       "      <td>2013-03-28</td>\n",
       "    </tr>\n",
       "    <tr>\n",
       "      <th>session-time</th>\n",
       "      <td>12:52:33</td>\n",
       "    </tr>\n",
       "    <tr>\n",
       "      <th>caller-id</th>\n",
       "      <td>be5694f464</td>\n",
       "    </tr>\n",
       "    <tr>\n",
       "      <th>turns</th>\n",
       "      <td>[{'output': {'transcript': 'Hello , welcome to...</td>\n",
       "    </tr>\n",
       "    <tr>\n",
       "      <th>system-specific</th>\n",
       "      <td>{'dialog-manager': 1, 'acoustic-condition': 0}</td>\n",
       "    </tr>\n",
       "  </tbody>\n",
       "</table>\n",
       "</div>"
      ],
      "text/plain": [
       "                                                                 0\n",
       "session-id                         voip-be5694f464-20130328_125233\n",
       "session-date                                            2013-03-28\n",
       "session-time                                              12:52:33\n",
       "caller-id                                               be5694f464\n",
       "turns            [{'output': {'transcript': 'Hello , welcome to...\n",
       "system-specific     {'dialog-manager': 1, 'acoustic-condition': 0}"
      ]
     },
     "metadata": {},
     "output_type": "display_data"
    },
    {
     "data": {
      "text/html": [
       "<h1>Turns</h1>"
      ],
      "text/plain": [
       "<IPython.core.display.HTML object>"
      ]
     },
     "metadata": {},
     "output_type": "display_data"
    },
    {
     "data": {
      "text/html": [
       "<div>\n",
       "<table border=\"1\" class=\"dataframe\">\n",
       "  <thead>\n",
       "    <tr style=\"text-align: right;\">\n",
       "      <th></th>\n",
       "      <th>input</th>\n",
       "      <th>output</th>\n",
       "      <th>turn-index</th>\n",
       "    </tr>\n",
       "  </thead>\n",
       "  <tbody>\n",
       "    <tr>\n",
       "      <th>0</th>\n",
       "      <td>{'live': {'asr-hyps': [{'asr-hyp': 'and i want...</td>\n",
       "      <td>{'transcript': 'Hello , welcome to the Cambrid...</td>\n",
       "      <td>0</td>\n",
       "    </tr>\n",
       "    <tr>\n",
       "      <th>1</th>\n",
       "      <td>{'live': {'asr-hyps': [{'asr-hyp': 'i want to ...</td>\n",
       "      <td>{'transcript': 'the missing sock is a nice pla...</td>\n",
       "      <td>1</td>\n",
       "    </tr>\n",
       "    <tr>\n",
       "      <th>2</th>\n",
       "      <td>{'live': {'asr-hyps': [{'asr-hyp': 'thank you ...</td>\n",
       "      <td>{'transcript': 'Sure , the missing sock is on ...</td>\n",
       "      <td>2</td>\n",
       "    </tr>\n",
       "  </tbody>\n",
       "</table>\n",
       "</div>"
      ],
      "text/plain": [
       "                                               input  \\\n",
       "0  {'live': {'asr-hyps': [{'asr-hyp': 'and i want...   \n",
       "1  {'live': {'asr-hyps': [{'asr-hyp': 'i want to ...   \n",
       "2  {'live': {'asr-hyps': [{'asr-hyp': 'thank you ...   \n",
       "\n",
       "                                              output  turn-index  \n",
       "0  {'transcript': 'Hello , welcome to the Cambrid...           0  \n",
       "1  {'transcript': 'the missing sock is a nice pla...           1  \n",
       "2  {'transcript': 'Sure , the missing sock is on ...           2  "
      ]
     },
     "metadata": {},
     "output_type": "display_data"
    },
    {
     "data": {
      "text/html": [
       "<h1>Single Turn</h1>"
      ],
      "text/plain": [
       "<IPython.core.display.HTML object>"
      ]
     },
     "metadata": {},
     "output_type": "display_data"
    },
    {
     "name": "stdout",
     "output_type": "stream",
     "text": [
      "{'asr-hyps': [{'asr-hyp': 'and i want to find a cheap restaurant in the east part of town', 'score': -1.053452}, {'asr-hyp': 'ok i want to find a cheap restaurant in the east part of town', 'score': -1.35857}, {'asr-hyp': 'and i want to find a restaurant in the east part of town', 'score': -3.378493}, {'asr-hyp': 'i i want to find a cheap restaurant in the east part of town', 'score': -3.525941}, {'asr-hyp': 'ok i want to find a restaurant in the east part of town', 'score': -3.683611}, {'asr-hyp': 'and and i want to find a cheap restaurant in the east part of town', 'score': -3.726887}, {'asr-hyp': 'and can i want to find a cheap restaurant in the east part of town', 'score': -3.873892}, {'asr-hyp': 'can i want to find a cheap restaurant in the east part of town', 'score': -3.91824}, {'asr-hyp': 'ok and i want to find a cheap restaurant in the east part of town', 'score': -4.032005}, {'asr-hyp': 'and i want to find an cheap restaurant in the east part of town', 'score': -4.060443}], 'slu-hyps': [{'slu-hyp': [{'slots': [['pricerange', 'cheap']], 'act': 'inform'}, {'slots': [['area', 'east']], 'act': 'inform'}], 'score': 0.9845228927833205}, {'slu-hyp': [{'slots': [], 'act': 'hello'}, {'slots': [['pricerange', 'cheap']], 'act': 'inform'}, {'slots': [['area', 'east']], 'act': 'inform'}], 'score': 0.015477107216679501}]}\n"
     ]
    },
    {
     "data": {
      "text/html": [
       "<div>\n",
       "<table border=\"1\" class=\"dataframe\">\n",
       "  <thead>\n",
       "    <tr style=\"text-align: right;\">\n",
       "      <th></th>\n",
       "      <th>input</th>\n",
       "      <th>output</th>\n",
       "      <th>turn-index</th>\n",
       "    </tr>\n",
       "  </thead>\n",
       "  <tbody>\n",
       "    <tr>\n",
       "      <th>aborted</th>\n",
       "      <td>NaN</td>\n",
       "      <td>False</td>\n",
       "      <td>0</td>\n",
       "    </tr>\n",
       "    <tr>\n",
       "      <th>audio-file</th>\n",
       "      <td>pt344x_0000904_0001369.wav</td>\n",
       "      <td>NaN</td>\n",
       "      <td>0</td>\n",
       "    </tr>\n",
       "    <tr>\n",
       "      <th>batch</th>\n",
       "      <td>{'cnet': [{'start': 0.0, 'end': 0.0240625, 'ar...</td>\n",
       "      <td>NaN</td>\n",
       "      <td>0</td>\n",
       "    </tr>\n",
       "    <tr>\n",
       "      <th>dialog-acts</th>\n",
       "      <td>NaN</td>\n",
       "      <td>[{'slots': [], 'act': 'welcomemsg'}]</td>\n",
       "      <td>0</td>\n",
       "    </tr>\n",
       "    <tr>\n",
       "      <th>end-time</th>\n",
       "      <td>13.69</td>\n",
       "      <td>9.04</td>\n",
       "      <td>0</td>\n",
       "    </tr>\n",
       "    <tr>\n",
       "      <th>live</th>\n",
       "      <td>{'asr-hyps': [{'asr-hyp': 'and i want to find ...</td>\n",
       "      <td>NaN</td>\n",
       "      <td>0</td>\n",
       "    </tr>\n",
       "    <tr>\n",
       "      <th>start-time</th>\n",
       "      <td>9.04</td>\n",
       "      <td>0.0013</td>\n",
       "      <td>0</td>\n",
       "    </tr>\n",
       "    <tr>\n",
       "      <th>transcript</th>\n",
       "      <td>NaN</td>\n",
       "      <td>Hello , welcome to the Cambridge restaurant sy...</td>\n",
       "      <td>0</td>\n",
       "    </tr>\n",
       "  </tbody>\n",
       "</table>\n",
       "</div>"
      ],
      "text/plain": [
       "                                                         input  \\\n",
       "aborted                                                    NaN   \n",
       "audio-file                          pt344x_0000904_0001369.wav   \n",
       "batch        {'cnet': [{'start': 0.0, 'end': 0.0240625, 'ar...   \n",
       "dialog-acts                                                NaN   \n",
       "end-time                                                 13.69   \n",
       "live         {'asr-hyps': [{'asr-hyp': 'and i want to find ...   \n",
       "start-time                                                9.04   \n",
       "transcript                                                 NaN   \n",
       "\n",
       "                                                        output  turn-index  \n",
       "aborted                                                  False           0  \n",
       "audio-file                                                 NaN           0  \n",
       "batch                                                      NaN           0  \n",
       "dialog-acts               [{'slots': [], 'act': 'welcomemsg'}]           0  \n",
       "end-time                                                  9.04           0  \n",
       "live                                                       NaN           0  \n",
       "start-time                                              0.0013           0  \n",
       "transcript   Hello , welcome to the Cambridge restaurant sy...           0  "
      ]
     },
     "metadata": {},
     "output_type": "display_data"
    }
   ],
   "source": [
    "dataset = dataset_walker(dataset_name)\n",
    "print(\"Total Datasets: {}\".format(len(dataset)))\n",
    "\n",
    "display(HTML('<h1>Session</h1>'))\n",
    "\n",
    "log = dataset[1].log\n",
    "table = pd.DataFrame.from_dict(log, orient='index')\n",
    "display(table)\n",
    "\n",
    "display(HTML('<h1>Turns</h1>'))\n",
    "\n",
    "turns = log[\"turns\"]\n",
    "display(pd.DataFrame(turns))\n",
    "\n",
    "display(HTML('<h1>Single Turn</h1>'))\n",
    "turn = turns[0]\n",
    "print(turn['input']['live'])\n",
    "display(pd.DataFrame(turn))\n"
   ]
  },
  {
   "cell_type": "code",
   "execution_count": null,
   "metadata": {
    "collapsed": true
   },
   "outputs": [],
   "source": []
  }
 ],
 "metadata": {
  "kernelspec": {
   "display_name": "Python 3",
   "language": "python",
   "name": "python3"
  },
  "language_info": {
   "codemirror_mode": {
    "name": "ipython",
    "version": 3
   },
   "file_extension": ".py",
   "mimetype": "text/x-python",
   "name": "python",
   "nbconvert_exporter": "python",
   "pygments_lexer": "ipython3",
   "version": "3.6.1"
  }
 },
 "nbformat": 4,
 "nbformat_minor": 2
}
